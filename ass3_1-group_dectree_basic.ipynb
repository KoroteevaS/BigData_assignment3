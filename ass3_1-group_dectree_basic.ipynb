{
 "cells": [
  {
   "cell_type": "code",
   "execution_count": 1,
   "id": "d01905ba",
   "metadata": {},
   "outputs": [
    {
     "name": "stdout",
     "output_type": "stream",
     "text": [
      "DataFrame[_c0: string, _c1: string, _c2: string, _c3: string, _c4: string, _c5: string, _c6: string, _c7: string, _c8: string, _c9: string, _c10: string, _c11: string, _c12: string, _c13: string, _c14: string, _c15: string, _c16: string, _c17: string, _c18: string, _c19: string, _c20: string, _c21: string, _c22: string, _c23: string, _c24: string, _c25: string, _c26: string, _c27: string, _c28: string, _c29: string, _c30: string, _c31: string, _c32: string, _c33: string, _c34: string, _c35: string, _c36: string, _c37: string, _c38: string, _c39: string, _c40: string, _c41: string]\n",
      "+---+---+---+---+---+-----+---+---+---+---+----+----+----+----+----+----+----+----+----+----+----+----+----+----+----+----+----+----+----+----+----+----+----+----+----+----+----+----+----+----+----+-------+\n",
      "|_c0|_c1|_c2|_c3|_c4|  _c5|_c6|_c7|_c8|_c9|_c10|_c11|_c12|_c13|_c14|_c15|_c16|_c17|_c18|_c19|_c20|_c21|_c22|_c23|_c24|_c25|_c26|_c27|_c28|_c29|_c30|_c31|_c32|_c33|_c34|_c35|_c36|_c37|_c38|_c39|_c40|   _c41|\n",
      "+---+---+---+---+---+-----+---+---+---+---+----+----+----+----+----+----+----+----+----+----+----+----+----+----+----+----+----+----+----+----+----+----+----+----+----+----+----+----+----+----+----+-------+\n",
      "|  0|  0| 17|  9|491|    0|  0|  0|  0|  0|   0|   0|   0|   0|   0|   0|   0|   0|   0|   0|   0|   0|   2|   2|   0|   0|   0|   0|   1|   0|   0| 150|  25|0.17|0.03|0.17|   0|   0|   0|0.05|   0| normal|\n",
      "|  0|  1| 42|  9|146|    0|  0|  0|  0|  0|   0|   0|   0|   0|   0|   0|   0|   0|   0|   0|   0|   0|  13|   1|   0|   0|   0|   0|0.08|0.15|   0| 255|   1|   0| 0.6|0.88|   0|   0|   0|   0|   0| normal|\n",
      "|  0|  0| 47|  5|  0|    0|  0|  0|  0|  0|   0|   0|   0|   0|   0|   0|   0|   0|   0|   0|   0|   0| 123|   6|   1|   1|   0|   0|0.05|0.07|   0| 255|  26| 0.1|0.05|   0|   0|   1|   1|   0|   0|anomaly|\n",
      "|  0|  0| 21|  9|232| 8153|  0|  0|  0|  0|   0|   1|   0|   0|   0|   0|   0|   0|   0|   0|   0|   0|   5|   5| 0.2| 0.2|   0|   0|   1|   0|   0|  30| 255|   1|   0|0.03|0.04|0.03|0.01|   0|0.01| normal|\n",
      "|  0|  0| 21|  9|199|  420|  0|  0|  0|  0|   0|   1|   0|   0|   0|   0|   0|   0|   0|   0|   0|   0|  30|  32|   0|   0|   0|   0|   1|   0|0.09| 255| 255|   1|   0|   0|   0|   0|   0|   0|   0| normal|\n",
      "|  0|  0| 47|  1|  0|    0|  0|  0|  0|  0|   0|   0|   0|   0|   0|   0|   0|   0|   0|   0|   0|   0| 121|  19|   0|   0|   1|   1|0.16|0.06|   0| 255|  19|0.07|0.07|   0|   0|   0|   0|   1|   1|anomaly|\n",
      "|  0|  0| 47|  5|  0|    0|  0|  0|  0|  0|   0|   0|   0|   0|   0|   0|   0|   0|   0|   0|   0|   0| 166|   9|   1|   1|   0|   0|0.05|0.06|   0| 255|   9|0.04|0.05|   0|   0|   1|   1|   0|   0|anomaly|\n",
      "|  0|  0| 47|  5|  0|    0|  0|  0|  0|  0|   0|   0|   0|   0|   0|   0|   0|   0|   0|   0|   0|   0| 117|  16|   1|   1|   0|   0|0.14|0.06|   0| 255|  15|0.06|0.07|   0|   0|   1|   1|   0|   0|anomaly|\n",
      "|  0|  0| 49|  5|  0|    0|  0|  0|  0|  0|   0|   0|   0|   0|   0|   0|   0|   0|   0|   0|   0|   0| 270|  23|   1|   1|   0|   0|0.09|0.05|   0| 255|  23|0.09|0.05|   0|   0|   1|   1|   0|   0|anomaly|\n",
      "|  0|  0| 47|  5|  0|    0|  0|  0|  0|  0|   0|   0|   0|   0|   0|   0|   0|   0|   0|   0|   0|   0| 133|   8|   1|   1|   0|   0|0.06|0.06|   0| 255|  13|0.05|0.06|   0|   0|   1|   1|   0|   0|anomaly|\n",
      "|  0|  0| 47|  1|  0|    0|  0|  0|  0|  0|   0|   0|   0|   0|   0|   0|   0|   0|   0|   0|   0|   0| 205|  12|   0|   0|   1|   1|0.06|0.06|   0| 255|  12|0.05|0.07|   0|   0|   0|   0|   1|   1|anomaly|\n",
      "|  0|  0| 47|  5|  0|    0|  0|  0|  0|  0|   0|   0|   0|   0|   0|   0|   0|   0|   0|   0|   0|   0| 199|   3|   1|   1|   0|   0|0.02|0.06|   0| 255|  13|0.05|0.07|   0|   0|   1|   1|   0|   0|anomaly|\n",
      "|  0|  0| 21|  9|287| 2251|  0|  0|  0|  0|   0|   1|   0|   0|   0|   0|   0|   0|   0|   0|   0|   0|   3|   7|   0|   0|   0|   0|   1|   0|0.43|   8| 219|   1|   0|0.12|0.03|   0|   0|   0|   0| normal|\n",
      "|  0|  0| 17|  9|334|    0|  0|  0|  0|  0|   0|   1|   0|   0|   0|   0|   0|   0|   0|   0|   0|   0|   2|   2|   0|   0|   0|   0|   1|   0|   0|   2|  20|   1|   0|   1| 0.2|   0|   0|   0|   0|anomaly|\n",
      "|  0|  0| 34|  5|  0|    0|  0|  0|  0|  0|   0|   0|   0|   0|   0|   0|   0|   0|   0|   0|   0|   0| 233|   1|   1|   1|   0|   0|   0|0.06|   0| 255|   1|   0|0.07|   0|   0|   1|   1|   0|   0|anomaly|\n",
      "|  0|  0| 36|  5|  0|    0|  0|  0|  0|  0|   0|   0|   0|   0|   0|   0|   0|   0|   0|   0|   0|   0|  96|  16|   1|   1|   0|   0|0.17|0.05|   0| 255|   2|0.01|0.06|   0|   0|   1|   1|   0|   0|anomaly|\n",
      "|  0|  0| 21|  9|300|13788|  0|  0|  0|  0|   0|   1|   0|   0|   0|   0|   0|   0|   0|   0|   0|   0|   8|   9|   0|0.11|   0|   0|   1|   0|0.22|  91| 255|   1|   0|0.01|0.02|   0|   0|   0|   0| normal|\n",
      "|  0|  2| 11|  9| 18|    0|  0|  0|  0|  0|   0|   0|   0|   0|   0|   0|   0|   0|   0|   0|   0|   0|   1|   1|   0|   0|   0|   0|   1|   0|   0|   1|  16|   1|   0|   1|   1|   0|   0|   0|   0|anomaly|\n",
      "|  0|  0| 21|  9|233|  616|  0|  0|  0|  0|   0|   1|   0|   0|   0|   0|   0|   0|   0|   0|   0|   0|   3|   3|   0|   0|   0|   0|   1|   0|   0|  66| 255|   1|   0|0.02|0.03|   0|   0|0.02|   0| normal|\n",
      "|  0|  0| 21|  9|343| 1178|  0|  0|  0|  0|   0|   1|   0|   0|   0|   0|   0|   0|   0|   0|   0|   0|   9|  10|   0|   0|   0|   0|   1|   0| 0.2| 157| 255|   1|   0|0.01|0.04|   0|   0|   0|   0| normal|\n",
      "+---+---+---+---+---+-----+---+---+---+---+----+----+----+----+----+----+----+----+----+----+----+----+----+----+----+----+----+----+----+----+----+----+----+----+----+----+----+----+----+----+----+-------+\n",
      "only showing top 20 rows\n",
      "\n",
      "None\n"
     ]
    }
   ],
   "source": [
    "from pyspark.sql import SparkSession\n",
    "from pyspark.ml.feature import VectorAssembler\n",
    "from pyspark.ml.classification import DecisionTreeClassifier\n",
    "from pyspark.ml.evaluation import MulticlassClassificationEvaluator\n",
    "from pyspark.sql.functions import split\n",
    "from pyspark.ml.feature import StringIndexer\n",
    "from pyspark.sql.functions import col\n",
    "import time\n",
    "import numpy as np\n",
    "\n",
    "spark = SparkSession.builder.appName(\"DecisionTree\").getOrCreate()\n",
    "kdd = spark.read.csv(\"data/kdd.data\")\n",
    "print(kdd)\n",
    "print(kdd.show())\n",
    "\n"
   ]
  },
  {
   "cell_type": "code",
   "execution_count": 3,
   "id": "53cee7b1",
   "metadata": {
    "scrolled": true
   },
   "outputs": [],
   "source": [
    "# Set the number of runs\n",
    "seeds = [123,1234,777,888,1000,9876545,123456,3333,88,1000]\n",
    "\n",
    "# Initialize lists to store accuracy results\n",
    "train_accuracies = []\n",
    "test_accuracies = []\n",
    "run = 1\n",
    "\n"
   ]
  },
  {
   "cell_type": "code",
   "execution_count": 40,
   "id": "5580b4f3",
   "metadata": {},
   "outputs": [
    {
     "name": "stdout",
     "output_type": "stream",
     "text": [
      "+------------------------------------------------------------------------------------------------------------------------------------------------+\n",
      "|features                                                                                                                                        |\n",
      "+------------------------------------------------------------------------------------------------------------------------------------------------+\n",
      "|(41,[2,3,4,22,23,28,31,32,33,34,35,39],[17.0,9.0,491.0,2.0,2.0,1.0,150.0,25.0,0.17,0.03,0.17,0.05])                                             |\n",
      "|(41,[1,2,3,4,22,23,28,29,31,32,34,35],[1.0,42.0,9.0,146.0,13.0,1.0,0.08,0.15,255.0,1.0,0.6,0.88])                                               |\n",
      "|(41,[2,3,22,23,24,25,28,29,31,32,33,34,37,38],[47.0,5.0,123.0,6.0,1.0,1.0,0.05,0.07,255.0,26.0,0.1,0.05,1.0,1.0])                               |\n",
      "|(41,[2,3,4,5,11,22,23,24,25,28,31,32,33,35,36,37,38,40],[21.0,9.0,232.0,8153.0,1.0,5.0,5.0,0.2,0.2,1.0,30.0,255.0,1.0,0.03,0.04,0.03,0.01,0.01])|\n",
      "|(41,[2,3,4,5,11,22,23,28,30,31,32,33],[21.0,9.0,199.0,420.0,1.0,30.0,32.0,1.0,0.09,255.0,255.0,1.0])                                            |\n",
      "|(41,[2,3,22,23,26,27,28,29,31,32,33,34,39,40],[47.0,1.0,121.0,19.0,1.0,1.0,0.16,0.06,255.0,19.0,0.07,0.07,1.0,1.0])                             |\n",
      "|(41,[2,3,22,23,24,25,28,29,31,32,33,34,37,38],[47.0,5.0,166.0,9.0,1.0,1.0,0.05,0.06,255.0,9.0,0.04,0.05,1.0,1.0])                               |\n",
      "|(41,[2,3,22,23,24,25,28,29,31,32,33,34,37,38],[47.0,5.0,117.0,16.0,1.0,1.0,0.14,0.06,255.0,15.0,0.06,0.07,1.0,1.0])                             |\n",
      "|(41,[2,3,22,23,24,25,28,29,31,32,33,34,37,38],[49.0,5.0,270.0,23.0,1.0,1.0,0.09,0.05,255.0,23.0,0.09,0.05,1.0,1.0])                             |\n",
      "|(41,[2,3,22,23,24,25,28,29,31,32,33,34,37,38],[47.0,5.0,133.0,8.0,1.0,1.0,0.06,0.06,255.0,13.0,0.05,0.06,1.0,1.0])                              |\n",
      "|(41,[2,3,22,23,26,27,28,29,31,32,33,34,39,40],[47.0,1.0,205.0,12.0,1.0,1.0,0.06,0.06,255.0,12.0,0.05,0.07,1.0,1.0])                             |\n",
      "|(41,[2,3,22,23,24,25,28,29,31,32,33,34,37,38],[47.0,5.0,199.0,3.0,1.0,1.0,0.02,0.06,255.0,13.0,0.05,0.07,1.0,1.0])                              |\n",
      "|(41,[2,3,4,5,11,22,23,28,30,31,32,33,35,36],[21.0,9.0,287.0,2251.0,1.0,3.0,7.0,1.0,0.43,8.0,219.0,1.0,0.12,0.03])                               |\n",
      "|(41,[2,3,4,11,22,23,28,31,32,33,35,36],[17.0,9.0,334.0,1.0,2.0,2.0,1.0,2.0,20.0,1.0,1.0,0.2])                                                   |\n",
      "|(41,[2,3,22,23,24,25,29,31,32,34,37,38],[34.0,5.0,233.0,1.0,1.0,1.0,0.06,255.0,1.0,0.07,1.0,1.0])                                               |\n",
      "|(41,[2,3,22,23,24,25,28,29,31,32,33,34,37,38],[36.0,5.0,96.0,16.0,1.0,1.0,0.17,0.05,255.0,2.0,0.01,0.06,1.0,1.0])                               |\n",
      "|(41,[2,3,4,5,11,22,23,25,28,30,31,32,33,35,36],[21.0,9.0,300.0,13788.0,1.0,8.0,9.0,0.11,1.0,0.22,91.0,255.0,1.0,0.01,0.02])                     |\n",
      "|(41,[1,2,3,4,22,23,28,31,32,33,35,36],[2.0,11.0,9.0,18.0,1.0,1.0,1.0,1.0,16.0,1.0,1.0,1.0])                                                     |\n",
      "|(41,[2,3,4,5,11,22,23,28,31,32,33,35,36,39],[21.0,9.0,233.0,616.0,1.0,3.0,3.0,1.0,66.0,255.0,1.0,0.02,0.03,0.02])                               |\n",
      "|(41,[2,3,4,5,11,22,23,28,30,31,32,33,35,36],[21.0,9.0,343.0,1178.0,1.0,9.0,10.0,1.0,0.2,157.0,255.0,1.0,0.01,0.04])                             |\n",
      "+------------------------------------------------------------------------------------------------------------------------------------------------+\n",
      "only showing top 20 rows\n",
      "\n"
     ]
    }
   ],
   "source": [
    "feature_columns = kdd.columns[:-1]  # Select all columns except the last one\n",
    "label_column = kdd.columns[-1] \n",
    "\n",
    "\n",
    "# Create a StringIndexer to encode the label column\n",
    "label_indexer = StringIndexer(inputCol=label_column, outputCol=\"indexed_lab\")\n",
    "data = label_indexer.fit(kdd).transform(kdd)\n",
    "\n",
    "\n",
    "# # List of columns to convert\n",
    "columns_to_convert = [\"_c0\",\"_c1\", \"_c2\", \"_c3\", \"_c4\", \"_c5\", \"_c6\", \"_c7\", \"_c8\", \"_c9\", \"_c10\",\n",
    "                      \"_c11\", \"_c12\", \"_c13\", \"_c14\", \"_c15\", \"_c16\", \"_c17\", \"_c18\", \"_c19\", \"_c20\",\n",
    "                      \"_c21\", \"_c22\", \"_c23\", \"_c24\", \"_c25\", \"_c26\", \"_c27\", \"_c28\", \"_c29\", \"_c30\",\n",
    "                      \"_c31\", \"_c32\", \"_c33\", \"_c34\", \"_c35\", \"_c36\", \"_c37\", \"_c38\", \"_c39\", \"_c40\"]\n",
    "\n",
    "# Convert columns to numerical types\n",
    "for column in columns_to_convert:\n",
    "    data = data.withColumn(column, col(column).cast(\"double\"))\n",
    "# Create a vector assembler to combine the feature columns into a single vector column\n",
    "assembler = VectorAssembler(inputCols=feature_columns, outputCol=\"features\")\n",
    "kdd_vec = assembler.transform(data)\n",
    "kdd_vec.select(\"features\").show(truncate=False)\n"
   ]
  },
  {
   "cell_type": "code",
   "execution_count": 41,
   "id": "abb78f2f",
   "metadata": {
    "scrolled": false
   },
   "outputs": [],
   "source": [
    "def dt_main(seed,run):\n",
    "    (training_data, test_data) = kdd_vec.randomSplit([0.7, 0.3],seed=seed)\n",
    "#     trainingData.show()\n",
    "#     testData.show()\n",
    "    print(run ,\" - seed =\", seed)\n",
    "    start_time = time.time()\n",
    "    dt = DecisionTreeClassifier(labelCol=\"indexed_lab\", featuresCol=\"features\")\n",
    "    dtModel = dt.fit(training_data)\n",
    "\n",
    "    train_pred = dtModel.transform(training_data)\n",
    "    test_pred = dtModel.transform(test_data)\n",
    "\n",
    "\n",
    "\n",
    "    # Evaluation\n",
    "    evaluator = MulticlassClassificationEvaluator(\n",
    "        labelCol=\"indexed_lab\", predictionCol=\"prediction\", metricName=\"accuracy\"\n",
    "    )\n",
    "    train_accuracy = evaluator.evaluate(train_pred)\n",
    "    test_accuracy =  evaluator.evaluate(test_pred)\n",
    "\n",
    "    print(\"Training Accuracy:\", train_accuracy)\n",
    "    print(\"Test Accuracy:\", test_accuracy)\n",
    "\n",
    "    train_accuracies.append(train_accuracy)\n",
    "    test_accuracies.append(test_accuracy)\n",
    "\n",
    "    running_time = time.time() - start_time\n",
    "    print(\"Running Time:\", running_time, \"seconds\")\n",
    "    run = run+1\n",
    "    return run\n",
    "\n",
    "\n",
    "\n",
    " "
   ]
  },
  {
   "cell_type": "code",
   "execution_count": 42,
   "id": "a79487c8",
   "metadata": {},
   "outputs": [
    {
     "name": "stdout",
     "output_type": "stream",
     "text": [
      "1  - seed = 123\n",
      "Training Accuracy: 0.954793944491169\n",
      "Test Accuracy: 0.9533370257546386\n",
      "Running Time: 4.997714519500732 seconds\n",
      "2  - seed = 1234\n",
      "Training Accuracy: 0.9518729397662571\n",
      "Test Accuracy: 0.9514130586106084\n",
      "Running Time: 4.819903612136841 seconds\n",
      "3  - seed = 777\n",
      "Training Accuracy: 0.9546314935552684\n",
      "Test Accuracy: 0.952259046564727\n",
      "Running Time: 5.570835828781128 seconds\n",
      "4  - seed = 888\n",
      "Training Accuracy: 0.947838064438855\n",
      "Test Accuracy: 0.9463040446304045\n",
      "Running Time: 5.8547327518463135 seconds\n",
      "5  - seed = 1000\n",
      "Training Accuracy: 0.9525559439514804\n",
      "Test Accuracy: 0.9506484402383456\n",
      "Running Time: 7.110910177230835 seconds\n",
      "6  - seed = 9876545\n",
      "Training Accuracy: 0.9459111590038314\n",
      "Test Accuracy: 0.9468872138470128\n",
      "Running Time: 6.441486835479736 seconds\n",
      "7  - seed = 123456\n",
      "Training Accuracy: 0.9504406273338312\n",
      "Test Accuracy: 0.953719935488395\n",
      "Running Time: 6.048511028289795 seconds\n",
      "8  - seed = 3333\n",
      "Training Accuracy: 0.9553424739373301\n",
      "Test Accuracy: 0.9511887229118452\n",
      "Running Time: 6.403891086578369 seconds\n",
      "9  - seed = 88\n",
      "Training Accuracy: 0.9467105263157894\n",
      "Test Accuracy: 0.9469082260772244\n",
      "Running Time: 5.847238779067993 seconds\n",
      "10  - seed = 1000\n",
      "Training Accuracy: 0.9525559439514804\n",
      "Test Accuracy: 0.9506484402383456\n",
      "Running Time: 5.5449981689453125 seconds\n",
      "Training Accuracy - Max: 0.9553424739373301\n",
      "Training Accuracy - Min: 0.9459111590038314\n",
      "Training Accuracy - Average: 0.9512653116745293\n",
      "Training Accuracy - Standard Deviation: 0.003254927122596222\n",
      "Test Accuracy - Max: 0.953719935488395\n",
      "Test Accuracy - Min: 0.9463040446304045\n",
      "Test Accuracy - Average: 0.9503314154361548\n",
      "Test Accuracy - Standard Deviation: 0.0025717295035584203\n"
     ]
    }
   ],
   "source": [
    "for seed in seeds:\n",
    "    \n",
    "    run = dt_main(seed, run)\n",
    "print(\"Training Accuracy - Max:\", np.max(train_accuracies))\n",
    "print(\"Training Accuracy - Min:\", np.min(train_accuracies))\n",
    "print(\"Training Accuracy - Average:\", np.mean(train_accuracies))\n",
    "print(\"Training Accuracy - Standard Deviation:\", np.std(train_accuracies))\n",
    "print(\"Test Accuracy - Max:\", np.max(test_accuracies))\n",
    "print(\"Test Accuracy - Min:\", np.min(test_accuracies))\n",
    "print(\"Test Accuracy - Average:\", np.mean(test_accuracies))\n",
    "print(\"Test Accuracy - Standard Deviation:\", np.std(test_accuracies))\n"
   ]
  },
  {
   "cell_type": "code",
   "execution_count": 35,
   "id": "aca7a560",
   "metadata": {},
   "outputs": [],
   "source": [
    "\n",
    "    spark.stop()"
   ]
  },
  {
   "cell_type": "code",
   "execution_count": null,
   "id": "41534edc",
   "metadata": {},
   "outputs": [],
   "source": []
  }
 ],
 "metadata": {
  "kernelspec": {
   "display_name": "Python 3 (ipykernel)",
   "language": "python",
   "name": "python3"
  },
  "language_info": {
   "codemirror_mode": {
    "name": "ipython",
    "version": 3
   },
   "file_extension": ".py",
   "mimetype": "text/x-python",
   "name": "python",
   "nbconvert_exporter": "python",
   "pygments_lexer": "ipython3",
   "version": "3.9.2"
  }
 },
 "nbformat": 4,
 "nbformat_minor": 5
}
